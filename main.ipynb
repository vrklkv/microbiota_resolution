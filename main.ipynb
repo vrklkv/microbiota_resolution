{
 "cells": [
  {
   "cell_type": "code",
   "execution_count": 34,
   "metadata": {},
   "outputs": [],
   "source": [
    "%matplotlib inline\n",
    "\n",
    "import os\n",
    "\n",
    "import pandas as pd\n",
    "import seaborn as sns\n",
    "import numpy as np\n",
    "import scipy.stats as stats\n",
    "\n",
    "import matplotlib as mpl\n",
    "import matplotlib.pyplot as plt\n",
    "\n",
    "import cv2\n",
    "\n",
    "from PIL import Image\n",
    "\n",
    "import scipy.ndimage as ndimage \n",
    "from scipy.interpolate import RectBivariateSpline "
   ]
  },
  {
   "cell_type": "code",
   "execution_count": 35,
   "metadata": {},
   "outputs": [],
   "source": [
    "directory = 'test_images'\n",
    "filename = 'test1.bmp'\n",
    "f = os.path.join(directory, filename)  \n",
    "bacteria = cv2.imread(f)\n",
    "image = cv2.cvtColor(bacteria, cv2.COLOR_BGR2RGB)\n",
    "\n",
    "filename = 'test1_jpg.jpg'\n",
    "test1_jpg = cv2.cvtColor(image, cv2.COLOR_BGR2RGB)\n",
    "f = os.path.join(directory, filename)  \n",
    "cv2.imwrite(f, test1_jpg)\n",
    "\n",
    "filename = 'test1_jpg.jpg'\n",
    "f = os.path.join(directory, filename)  \n",
    "image = Image.open(f) \n",
    "t1j = np.array(image) \n",
    "t1j0 = t1j[:,:,0]\n",
    "filename = 'test1_jpg_channel0.jpg'\n",
    "f = os.path.join(directory, filename)  \n",
    "cv2.imwrite(f, t1j0)\n",
    "image = Image.open(f) \n",
    "i_in = np.array(image) \n"
   ]
  },
  {
   "cell_type": "code",
   "execution_count": 36,
   "metadata": {},
   "outputs": [
    {
     "name": "stdout",
     "output_type": "stream",
     "text": [
      "(125, 166)\n"
     ]
    }
   ],
   "source": [
    "print(i_in.shape)"
   ]
  },
  {
   "cell_type": "code",
   "execution_count": 37,
   "metadata": {},
   "outputs": [],
   "source": [
    "psf=4\n",
    "gain=1\n",
    "background=0\n",
    "temporal='mean'\n",
    "options = {\n",
    "        'gain': gain,\n",
    "        'background': background,  \n",
    "        'temporal': temporal \n",
    "    }"
   ]
  },
  {
   "cell_type": "code",
   "execution_count": 38,
   "metadata": {},
   "outputs": [],
   "source": [
    "gain = options['gain']\n",
    "window_radius = int(np.ceil(options['background']))\n",
    "psf = psf / 1.6651  \n",
    "\n",
    "# Апскейл\n",
    "number_row_initial, number_column_initial = i_in.shape\n",
    "x0 = np.linspace(-0.5, 0.5, number_column_initial)\n",
    "y0 = np.linspace(-0.5, 0.5, number_row_initial)\n",
    "\n",
    "x = np.linspace(-0.5, 0.5, round(5 * number_column_initial / psf)) \n",
    "y = np.linspace(-0.5, 0.5, round(5 * number_row_initial / psf)) \n",
    "\n",
    "# Ядра Собеля для вычисления градиентов\n",
    "Sobel_x = np.array([[1, 0, -1], [2, 0, -2], [1, 0, -1]])\n",
    "Sobel_y = np.array([[1, 2, 1], [0, 0, 0], [-1, -2, -1]])\n",
    "\n",
    "single_frame_i_in = i_in \n",
    "local_minimum = np.zeros((number_row_initial, number_column_initial)) \n",
    "single_frame_i_in_localmin = np.zeros((number_row_initial, number_column_initial))"
   ]
  },
  {
   "cell_type": "code",
   "execution_count": 39,
   "metadata": {},
   "outputs": [],
   "source": [
    "for u in range(number_row_initial): \n",
    "    for v in range(number_column_initial): \n",
    "        sub_window = single_frame_i_in[max(0, u - window_radius):min(number_row_initial, u + window_radius + 1),\n",
    "                        max(0, v - window_radius):min(number_column_initial, v + window_radius + 1)] # Вырезаем окно вокруг текущего пикселя\n",
    "        local_minimum[u, v] = np.min(sub_window) # Находим минимальное значение пикселя в окне\n",
    "        single_frame_i_in_localmin[u, v] = single_frame_i_in[u, v] - local_minimum[u, v] # Вычитаем локальный минимум из исходного изображения"
   ]
  },
  {
   "cell_type": "code",
   "execution_count": 40,
   "metadata": {},
   "outputs": [],
   "source": [
    "# Апскейл\n",
    "interp_localmin = RectBivariateSpline(y0, x0, single_frame_i_in_localmin) \n",
    "single_frame_localmin_magnified = interp_localmin(y, x) \n",
    "single_frame_localmin_magnified[single_frame_localmin_magnified < 0] = 0\n",
    "single_frame_localmin_magnified = np.pad(single_frame_localmin_magnified, 10, mode='constant')\n",
    "\n",
    "interp_i = RectBivariateSpline(y0, x0, single_frame_i_in) \n",
    "single_frame_i_magnified = interp_i(y, x) \n",
    "single_frame_i_magnified[single_frame_i_magnified < 0] = 0 \n",
    "single_frame_i_magnified = np.pad(single_frame_i_magnified, 10, mode='constant') # Паддинг\n",
    "\n",
    "number_row, number_column = single_frame_i_magnified.shape"
   ]
  },
  {
   "cell_type": "code",
   "execution_count": 41,
   "metadata": {},
   "outputs": [],
   "source": [
    "# Нормализуем изображение\n",
    "i_normalized = single_frame_localmin_magnified / (\n",
    "        ndimage.gaussian_filter(single_frame_localmin_magnified, 10) + 1e-5)\n",
    "\n",
    "# Вычисляем градиенты с помощью свертки с ядром Собеля\n",
    "gradient_y = ndimage.convolve(i_normalized, Sobel_x, mode='reflect')\n",
    "gradient_x = ndimage.convolve(i_normalized, Sobel_y, mode='reflect')\n",
    "# Нормализуем градиенты\n",
    "gradient_x = gradient_x / (i_normalized + 1e-5)\n",
    "gradient_y = gradient_y / (i_normalized + 1e-5)"
   ]
  },
  {
   "cell_type": "code",
   "execution_count": 42,
   "metadata": {},
   "outputs": [],
   "source": [
    "# Вычисляем смещение пикселей на основе градиента\n",
    "gain_value = 0.5 * gain + 1 \n",
    "displacement_x = gain_value * gradient_x\n",
    "displacement_y = gain_value * gradient_y\n",
    "displacement_x[np.abs(displacement_x) > 10] = 0\n",
    "displacement_y[np.abs(displacement_y) > 10] = 0 "
   ]
  },
  {
   "cell_type": "code",
   "execution_count": 43,
   "metadata": {},
   "outputs": [],
   "source": [
    "single_frame_i_out = np.zeros((number_row, number_column))\n",
    "for nx in range(10, number_row - 10): # по строкам масштабированного изображения\n",
    "    for ny in range(10, number_column - 10): # по столбцам масштабированного изображения\n",
    "        weighted1 = (1 - abs(displacement_x[nx, ny] - int(displacement_x[nx, ny]))) * (\n",
    "                1 - abs(displacement_y[nx, ny] - int(displacement_y[nx, ny])))\n",
    "        # Вычисляем веса для четырех соседних пикселей на основе дробной части смещений\n",
    "        weighted2 = (1 - abs(displacement_x[nx, ny] - int(displacement_x[nx, ny]))) * abs(\n",
    "            displacement_y[nx, ny] - int(displacement_y[nx, ny]))\n",
    "        weighted3 = abs(displacement_x[nx, ny] - int(displacement_x[nx, ny])) * (\n",
    "                1 - abs(displacement_y[nx, ny] - int(displacement_y[nx, ny])))\n",
    "        weighted4 = abs(displacement_x[nx, ny] - int(displacement_x[nx, ny])) * abs(\n",
    "            displacement_y[nx, ny] - int(displacement_y[nx, ny]))\n",
    "\n",
    "        coordinate1 = [int(displacement_x[nx, ny]), int(displacement_y[nx, ny])]\n",
    "        coordinate2 = [int(displacement_x[nx, ny]),\n",
    "                        int(displacement_y[nx, ny]) + int(np.sign(displacement_y[nx, ny]))]\n",
    "        coordinate3 = [int(displacement_x[nx, ny]) + int(np.sign(displacement_x[nx, ny])),\n",
    "                        int(displacement_y[nx, ny])]\n",
    "        coordinate4 = [int(displacement_x[nx, ny]) + int(np.sign(displacement_x[nx, ny])),\n",
    "                        int(displacement_y[nx, ny]) + int(np.sign(displacement_y[nx, ny]))]\n",
    "\n",
    "        single_frame_i_out[nx + coordinate1[0], ny + coordinate1[1]] += weighted1 * single_frame_i_magnified[nx, ny]\n",
    "        # Применяем взвешенное переназначение пикселей\n",
    "        single_frame_i_out[nx + coordinate2[0], ny + coordinate2[1]] += weighted2 * single_frame_i_magnified[nx, ny]\n",
    "        single_frame_i_out[nx + coordinate3[0], ny + coordinate3[1]] += weighted3 * single_frame_i_magnified[nx, ny]\n",
    "        single_frame_i_out[nx + coordinate4[0], ny + coordinate4[1]] += weighted4 * single_frame_i_magnified[nx, ny]"
   ]
  },
  {
   "cell_type": "code",
   "execution_count": 44,
   "metadata": {},
   "outputs": [],
   "source": [
    "#Удаляем паддинг\n",
    "single_frame_i_out = single_frame_i_out[10:-10, 10:-10]\n",
    "single_frame_i_magnified = single_frame_i_magnified[10:-10, 10:-10]"
   ]
  },
  {
   "cell_type": "code",
   "execution_count": 46,
   "metadata": {},
   "outputs": [
    {
     "data": {
      "text/plain": [
       "True"
      ]
     },
     "execution_count": 46,
     "metadata": {},
     "output_type": "execute_result"
    }
   ],
   "source": [
    "directory = 'test_images'\n",
    "filename = 'test1_channel0_OUT.jpg'\n",
    "r = single_frame_i_magnified\n",
    "f = os.path.join(directory, filename)  \n",
    "cv2.imwrite(f, r)"
   ]
  }
 ],
 "metadata": {
  "kernelspec": {
   "display_name": "Python 3",
   "language": "python",
   "name": "python3"
  },
  "language_info": {
   "codemirror_mode": {
    "name": "ipython",
    "version": 3
   },
   "file_extension": ".py",
   "mimetype": "text/x-python",
   "name": "python",
   "nbconvert_exporter": "python",
   "pygments_lexer": "ipython3",
   "version": "3.11.9"
  },
  "orig_nbformat": 4
 },
 "nbformat": 4,
 "nbformat_minor": 2
}
